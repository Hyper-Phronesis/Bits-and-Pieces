{
 "cells": [
  {
   "cell_type": "markdown",
   "metadata": {},
   "source": [
    "# Bits and Pieces of How to download a file with Jupyter\n",
    "1) use 'wget'"
   ]
  },
  {
   "cell_type": "code",
   "execution_count": 1,
   "metadata": {},
   "outputs": [
    {
     "name": "stdout",
     "output_type": "stream",
     "text": [
      "Requirement already satisfied: wget in c:\\users\\msugi\\anaconda3\\lib\\site-packages (3.2)\n",
      "100% [........................................................................] 13005564 / 13005564"
     ]
    },
    {
     "data": {
      "text/html": [
       "<div>\n",
       "<style scoped>\n",
       "    .dataframe tbody tr th:only-of-type {\n",
       "        vertical-align: middle;\n",
       "    }\n",
       "\n",
       "    .dataframe tbody tr th {\n",
       "        vertical-align: top;\n",
       "    }\n",
       "\n",
       "    .dataframe thead th {\n",
       "        text-align: right;\n",
       "    }\n",
       "</style>\n",
       "<table border=\"1\" class=\"dataframe\">\n",
       "  <thead>\n",
       "    <tr style=\"text-align: right;\">\n",
       "      <th></th>\n",
       "      <th>numero_de_caso</th>\n",
       "      <th>fecha_apertura_snvs</th>\n",
       "      <th>fecha_toma_muestra</th>\n",
       "      <th>fecha_clasificacion</th>\n",
       "      <th>provincia</th>\n",
       "      <th>barrio</th>\n",
       "      <th>comuna</th>\n",
       "      <th>genero</th>\n",
       "      <th>edad</th>\n",
       "      <th>clasificacion</th>\n",
       "      <th>fecha_fallecimiento</th>\n",
       "      <th>fallecido</th>\n",
       "      <th>fecha_alta</th>\n",
       "      <th>tipo_contagio</th>\n",
       "    </tr>\n",
       "  </thead>\n",
       "  <tbody>\n",
       "    <tr>\n",
       "      <th>0</th>\n",
       "      <td>965071</td>\n",
       "      <td>2020-05-24</td>\n",
       "      <td>2020-05-24</td>\n",
       "      <td>2020-05-26</td>\n",
       "      <td>CABA</td>\n",
       "      <td>NaN</td>\n",
       "      <td>NaN</td>\n",
       "      <td>femenino</td>\n",
       "      <td>85.0</td>\n",
       "      <td>descartado</td>\n",
       "      <td>NaT</td>\n",
       "      <td>NaN</td>\n",
       "      <td>NaT</td>\n",
       "      <td>NaN</td>\n",
       "    </tr>\n",
       "    <tr>\n",
       "      <th>1</th>\n",
       "      <td>980951</td>\n",
       "      <td>2020-05-28</td>\n",
       "      <td>2020-05-25</td>\n",
       "      <td>2020-05-27</td>\n",
       "      <td>CABA</td>\n",
       "      <td>NaN</td>\n",
       "      <td>NaN</td>\n",
       "      <td>masculino</td>\n",
       "      <td>43.0</td>\n",
       "      <td>descartado</td>\n",
       "      <td>NaT</td>\n",
       "      <td>NaN</td>\n",
       "      <td>NaT</td>\n",
       "      <td>NaN</td>\n",
       "    </tr>\n",
       "    <tr>\n",
       "      <th>2</th>\n",
       "      <td>890132</td>\n",
       "      <td>2020-05-06</td>\n",
       "      <td>2020-05-06</td>\n",
       "      <td>2020-05-07</td>\n",
       "      <td>CABA</td>\n",
       "      <td>NaN</td>\n",
       "      <td>NaN</td>\n",
       "      <td>femenino</td>\n",
       "      <td>89.0</td>\n",
       "      <td>descartado</td>\n",
       "      <td>NaT</td>\n",
       "      <td>NaN</td>\n",
       "      <td>2020-05-15</td>\n",
       "      <td>NaN</td>\n",
       "    </tr>\n",
       "    <tr>\n",
       "      <th>3</th>\n",
       "      <td>883313</td>\n",
       "      <td>2020-05-04</td>\n",
       "      <td>2020-05-03</td>\n",
       "      <td>2020-05-05</td>\n",
       "      <td>CABA</td>\n",
       "      <td>NaN</td>\n",
       "      <td>NaN</td>\n",
       "      <td>femenino</td>\n",
       "      <td>23.0</td>\n",
       "      <td>descartado</td>\n",
       "      <td>NaT</td>\n",
       "      <td>NaN</td>\n",
       "      <td>NaT</td>\n",
       "      <td>NaN</td>\n",
       "    </tr>\n",
       "    <tr>\n",
       "      <th>4</th>\n",
       "      <td>960776</td>\n",
       "      <td>2020-05-23</td>\n",
       "      <td>2020-05-23</td>\n",
       "      <td>2020-05-23</td>\n",
       "      <td>CABA</td>\n",
       "      <td>NaN</td>\n",
       "      <td>NaN</td>\n",
       "      <td>masculino</td>\n",
       "      <td>7.0</td>\n",
       "      <td>descartado</td>\n",
       "      <td>NaT</td>\n",
       "      <td>NaN</td>\n",
       "      <td>NaT</td>\n",
       "      <td>NaN</td>\n",
       "    </tr>\n",
       "  </tbody>\n",
       "</table>\n",
       "</div>"
      ],
      "text/plain": [
       "   numero_de_caso fecha_apertura_snvs fecha_toma_muestra fecha_clasificacion  \\\n",
       "0          965071          2020-05-24         2020-05-24          2020-05-26   \n",
       "1          980951          2020-05-28         2020-05-25          2020-05-27   \n",
       "2          890132          2020-05-06         2020-05-06          2020-05-07   \n",
       "3          883313          2020-05-04         2020-05-03          2020-05-05   \n",
       "4          960776          2020-05-23         2020-05-23          2020-05-23   \n",
       "\n",
       "  provincia  barrio  comuna     genero  edad clasificacion  \\\n",
       "0      CABA     NaN     NaN   femenino  85.0    descartado   \n",
       "1      CABA     NaN     NaN  masculino  43.0    descartado   \n",
       "2      CABA     NaN     NaN   femenino  89.0    descartado   \n",
       "3      CABA     NaN     NaN   femenino  23.0    descartado   \n",
       "4      CABA     NaN     NaN  masculino   7.0    descartado   \n",
       "\n",
       "  fecha_fallecimiento fallecido fecha_alta tipo_contagio  \n",
       "0                 NaT       NaN        NaT           NaN  \n",
       "1                 NaT       NaN        NaT           NaN  \n",
       "2                 NaT       NaN 2020-05-15           NaN  \n",
       "3                 NaT       NaN        NaT           NaN  \n",
       "4                 NaT       NaN        NaT           NaN  "
      ]
     },
     "execution_count": 1,
     "metadata": {},
     "output_type": "execute_result"
    }
   ],
   "source": [
    "!pip install wget\n",
    "import wget\n",
    "link=\"https://cdn.buenosaires.gob.ar/datosabiertos/datasets/salud/casos-covid-19/casos_covid19.xlsx\"\n",
    "filename=wget.download(link, \"casos_covid19.xlsx\")\n",
    "import pandas as pd\n",
    "from pandas import read_excel\n",
    "df = pd.read_excel(filename)\n",
    "df.head()"
   ]
  },
  {
   "cell_type": "markdown",
   "metadata": {},
   "source": [
    "2) Pandas' pd.read_csv"
   ]
  },
  {
   "cell_type": "code",
   "execution_count": null,
   "metadata": {},
   "outputs": [],
   "source": [
    "import pandas as pd\n",
    "from pandas import read_csv\n",
    "df_Crime_Barrio = pd.read_csv(r'https://github.com/ramadis/delitos-caba/releases/download/3.0/delitos.csv')\n",
    "\n",
    "print(df_Crime_Barrio.head()) # shows headers with top 5 rows\n",
    "df_Crime_Barrio.shape"
   ]
  },
  {
   "cell_type": "code",
   "execution_count": null,
   "metadata": {},
   "outputs": [],
   "source": [
    "3) "
   ]
  },
  {
   "cell_type": "code",
   "execution_count": null,
   "metadata": {},
   "outputs": [],
   "source": []
  }
 ],
 "metadata": {
  "kernelspec": {
   "display_name": "Python 3",
   "language": "python",
   "name": "python3"
  },
  "language_info": {
   "codemirror_mode": {
    "name": "ipython",
    "version": 3
   },
   "file_extension": ".py",
   "mimetype": "text/x-python",
   "name": "python",
   "nbconvert_exporter": "python",
   "pygments_lexer": "ipython3",
   "version": "3.7.6"
  }
 },
 "nbformat": 4,
 "nbformat_minor": 4
}
